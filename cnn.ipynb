{
 "metadata": {
  "language_info": {
   "codemirror_mode": {
    "name": "ipython",
    "version": 3
   },
   "file_extension": ".py",
   "mimetype": "text/x-python",
   "name": "python",
   "nbconvert_exporter": "python",
   "pygments_lexer": "ipython3",
   "version": "3.8.5-final"
  },
  "orig_nbformat": 2,
  "kernelspec": {
   "name": "python3",
   "display_name": "Python 3",
   "language": "python"
  }
 },
 "nbformat": 4,
 "nbformat_minor": 2,
 "cells": [
  {
   "cell_type": "code",
   "execution_count": 34,
   "metadata": {},
   "outputs": [
    {
     "output_type": "stream",
     "name": "stdout",
     "text": [
      "[2, 1, 0, 0, 2, 0, 2, 2, 0, 1]\n[2 1 0 0 2 0 2 2 0 1]\n"
     ]
    }
   ],
   "source": [
    "import tensorflow as tf \n",
    "from tensorflow.keras.models import Sequential\n",
    "from tensorflow.keras.layers import Dense,Dropout,Activation,MaxPool2D,Conv2D,Flatten,MaxPooling2D\n",
    "import pickle5 as pickle\n",
    "from customcvfunc import imagesplitter\n",
    "import numpy as np\n",
    "\n",
    "pickle_in=open(\"X.pickle\",\"rb\")\n",
    "X=pickle.load(pickle_in)\n",
    "pickle_in=open(\"y.pickle\",\"rb\")\n",
    "y=pickle.load(pickle_in)\n",
    "print(y[:10])\n",
    "y = np.array(y)\n",
    "print(y[:10])\n",
    "# cat 0 is 0 , cat 5 is 1 , cat 10 is 2"
   ]
  },
  {
   "cell_type": "code",
   "execution_count": 35,
   "metadata": {},
   "outputs": [],
   "source": [
    "# normalise the data\n",
    "X = X/255  # image 0 to 255\n",
    "# reshape to match Keras expectaions\n",
    "X = X.reshape(X.shape[0], 32, 64, 1)\n",
    "# X = X.reshape(X.shape[0], 32, 64, channels)\n",
    "# https://medium.com/datadriveninvestor/dual-input-cnn-with-keras-1e6d458cd979"
   ]
  },
  {
   "cell_type": "code",
   "execution_count": 36,
   "metadata": {},
   "outputs": [
    {
     "output_type": "execute_result",
     "data": {
      "text/plain": [
       "(29390, 32, 64, 1)"
      ]
     },
     "metadata": {},
     "execution_count": 36
    }
   ],
   "source": [
    "X.shape[1:]\n",
    "type(y)\n",
    "y.shape\n",
    "X.shape"
   ]
  },
  {
   "cell_type": "code",
   "execution_count": 38,
   "metadata": {},
   "outputs": [
    {
     "output_type": "stream",
     "name": "stdout",
     "text": [
      "Epoch 1/8\n",
      "552/552 [==============================] - 41s 74ms/step - loss: 0.7198 - accuracy: 0.6575 - val_loss: 0.4712 - val_accuracy: 0.8118\n",
      "Epoch 2/8\n",
      "552/552 [==============================] - 43s 78ms/step - loss: 0.3306 - accuracy: 0.8708 - val_loss: 0.2928 - val_accuracy: 0.8966\n",
      "Epoch 3/8\n",
      "552/552 [==============================] - 44s 79ms/step - loss: 0.2205 - accuracy: 0.9225 - val_loss: 0.1951 - val_accuracy: 0.9361\n",
      "Epoch 4/8\n",
      "552/552 [==============================] - 44s 79ms/step - loss: 0.1611 - accuracy: 0.9448 - val_loss: 0.1842 - val_accuracy: 0.9372\n",
      "Epoch 5/8\n",
      "552/552 [==============================] - 44s 79ms/step - loss: 0.1305 - accuracy: 0.9555 - val_loss: 0.1652 - val_accuracy: 0.9494\n",
      "Epoch 6/8\n",
      "552/552 [==============================] - 44s 79ms/step - loss: 0.1025 - accuracy: 0.9642 - val_loss: 0.1497 - val_accuracy: 0.9571\n",
      "Epoch 7/8\n",
      "552/552 [==============================] - 44s 80ms/step - loss: 0.0959 - accuracy: 0.9669 - val_loss: 0.1467 - val_accuracy: 0.9549\n",
      "Epoch 8/8\n",
      "552/552 [==============================] - 45s 81ms/step - loss: 0.0790 - accuracy: 0.9727 - val_loss: 0.1460 - val_accuracy: 0.9606\n"
     ]
    },
    {
     "output_type": "execute_result",
     "data": {
      "text/plain": [
       "<tensorflow.python.keras.callbacks.History at 0x7f002bcaf490>"
      ]
     },
     "metadata": {},
     "execution_count": 38
    }
   ],
   "source": [
    "#https://keras.io/api/layers/convolution_layers/convolution2d/\n",
    "# we might want to resize our x from 32 X 64 to \n",
    "# define the model\n",
    "# layer 1\n",
    "model = Sequential()\n",
    "model.add( Conv2D( 64, (3,3),input_shape = X.shape[1:]) )\n",
    "model.add(Activation(\"relu\"))\n",
    "model.add(MaxPooling2D(pool_size=(2,2)))\n",
    "# layer 2\n",
    "model.add( Conv2D(64,(3,3)) )\n",
    "model.add(Activation(\"relu\"))\n",
    "model.add(MaxPooling2D(pool_size=(2,2)))\n",
    "\n",
    "model.add( Conv2D(128,(3,3)) )\n",
    "model.add(Activation(\"relu\"))\n",
    "model.add(MaxPooling2D(pool_size=(2,2)))\n",
    "# layer 3\n",
    "model.add(Flatten())\n",
    "model.add(Dense(64))\n",
    "# activation\n",
    "model.add(Dense(3))\n",
    "model.add(Activation('sigmoid'))\n",
    "# https://www.tensorflow.org/tutorials/keras/save_and_load\n",
    "model.summary()\n",
    "#https://www.tensorflow.org/api_docs/python/tf/keras/losses\n",
    "# metrics the goal what other alternatives can we try/ suitable\n",
    "model.compile(loss=\"sparse_categorical_crossentropy\",optimizer=\"adam\",metrics=['accuracy'])\n",
    "model.fit(X,y,batch_size=32,validation_split=0.4,epochs=8)"
   ]
  },
  {
   "cell_type": "code",
   "execution_count": 42,
   "metadata": {},
   "outputs": [],
   "source": [
    "# model.save(\"model.h5\") "
   ]
  },
  {
   "cell_type": "code",
   "execution_count": 72,
   "metadata": {},
   "outputs": [
    {
     "output_type": "stream",
     "name": "stdout",
     "text": [
      "[2.0667518e-05 1.6517725e-06 6.4036965e-02]\n"
     ]
    },
    {
     "output_type": "execute_result",
     "data": {
      "text/plain": [
       "2"
      ]
     },
     "metadata": {},
     "execution_count": 72
    }
   ],
   "source": [
    "# model.predict(X[0])\n",
    "pred=model.predict(X)\n",
    "print(pred[0])\n",
    "y[0]\n",
    "# we got it working"
   ]
  },
  {
   "cell_type": "code",
   "execution_count": 104,
   "metadata": {},
   "outputs": [
    {
     "output_type": "stream",
     "name": "stdout",
     "text": [
      "(29390, 32, 64, 1)\n(32, 64, 1)\n"
     ]
    },
    {
     "output_type": "execute_result",
     "data": {
      "text/plain": [
       "(1, 32, 64, 1)"
      ]
     },
     "metadata": {},
     "execution_count": 104
    }
   ],
   "source": [
    "type(X[0])\n",
    "print(X.shape)\n",
    "print(X[0].shape)\n",
    "xx=np.array([X[0]])\n",
    "xx.shape"
   ]
  },
  {
   "cell_type": "code",
   "execution_count": 70,
   "metadata": {},
   "outputs": [],
   "source": [
    "pred=model.predict(xx)"
   ]
  },
  {
   "cell_type": "code",
   "execution_count": 125,
   "metadata": {},
   "outputs": [],
   "source": [
    "import cv2\n",
    "img = cv2.imread(\"extracted_data/10/01_123.jpeg\",0)"
   ]
  },
  {
   "cell_type": "code",
   "execution_count": 126,
   "metadata": {},
   "outputs": [],
   "source": [
    "T=[]"
   ]
  },
  {
   "cell_type": "code",
   "execution_count": 127,
   "metadata": {},
   "outputs": [],
   "source": [
    "T.append(img)"
   ]
  },
  {
   "cell_type": "code",
   "execution_count": 129,
   "metadata": {},
   "outputs": [],
   "source": [
    "T=np.array(T).reshape(-1,32,64)"
   ]
  },
  {
   "cell_type": "code",
   "execution_count": 132,
   "metadata": {},
   "outputs": [
    {
     "output_type": "execute_result",
     "data": {
      "text/plain": [
       "(32, 64)"
      ]
     },
     "metadata": {},
     "execution_count": 132
    }
   ],
   "source": [
    "T[0].shape\n"
   ]
  },
  {
   "cell_type": "code",
   "execution_count": 133,
   "metadata": {},
   "outputs": [],
   "source": [
    "# normalise the data\n",
    "T = T/255  # image 0 to 255\n",
    "# reshape to match Keras expectaions\n",
    "T = T.reshape(T.shape[0], 32, 64, 1)\n",
    "# X = X.reshape(X.shape[0], 32, 64, channels)\n",
    "# https://medium.com/datadriveninvestor/dual-input-cnn-with-keras-1e6d458cd979"
   ]
  },
  {
   "cell_type": "code",
   "execution_count": 134,
   "metadata": {},
   "outputs": [
    {
     "output_type": "execute_result",
     "data": {
      "text/plain": [
       "(1, 32, 64, 1)"
      ]
     },
     "metadata": {},
     "execution_count": 134
    }
   ],
   "source": [
    "T.shape"
   ]
  },
  {
   "cell_type": "code",
   "execution_count": 135,
   "metadata": {},
   "outputs": [],
   "source": [
    "p=model.predict(T)"
   ]
  },
  {
   "cell_type": "code",
   "execution_count": 136,
   "metadata": {},
   "outputs": [
    {
     "output_type": "execute_result",
     "data": {
      "text/plain": [
       "array([[0.12415114, 0.0018208 , 0.02656522]], dtype=float32)"
      ]
     },
     "metadata": {},
     "execution_count": 136
    }
   ],
   "source": [
    "p"
   ]
  },
  {
   "cell_type": "code",
   "execution_count": 137,
   "metadata": {},
   "outputs": [
    {
     "output_type": "execute_result",
     "data": {
      "text/plain": [
       "numpy.ndarray"
      ]
     },
     "metadata": {},
     "execution_count": 137
    }
   ],
   "source": [
    "type(p)"
   ]
  },
  {
   "cell_type": "code",
   "execution_count": 139,
   "metadata": {},
   "outputs": [
    {
     "output_type": "execute_result",
     "data": {
      "text/plain": [
       "0.12415114"
      ]
     },
     "metadata": {},
     "execution_count": 139
    }
   ],
   "source": [
    "p[0][0]"
   ]
  },
  {
   "cell_type": "code",
   "execution_count": null,
   "metadata": {},
   "outputs": [],
   "source": []
  }
 ]
}